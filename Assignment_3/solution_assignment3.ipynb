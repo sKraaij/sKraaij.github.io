{
 "cells": [
  {
   "cell_type": "markdown",
   "metadata": {},
   "source": [
    "<header>\n",
    "    <div style=\"text-align: center;\">\n",
    "        <h1> MSc Metropolitan Analysis Design Engineering </h1>\n",
    "        <h1> Metropolitan Data 1 </h1>\n",
    "        <h3> Stef Kraaij, Eirini Terezaki, Marco Russo </h3>\n",
    "        <h4> <i>Assignment 3</i> </h4>\n",
    "    </div>\n",
    "</header>"
   ]
  },
  {
   "cell_type": "markdown",
   "metadata": {},
   "source": [
    "**1. What Amsterdam will receive from tourist tax if the event lasts a week and you will have 30.000 visitors?**\n",
    "\n",
    "According to [**this website**](https://esb.nu/grootste-steden-heffen-hoogste-toeristenbelasting/#:~:text=Gemiddeld%20betaal%20je%20als%20toerist,aantal%20gemeenten%20kent%20geen%20toeristenbelasting), the average tourist tax is 3,27 euros per night.\n",
    "The event lasts 7 nights, moreover we know that the total number of visitors is 30,000.\n",
    "€3,27 * 7 nights * 30,000 visitors = €686,700.00\n",
    "Here a little code to calculate this:"
   ]
  },
  {
   "cell_type": "code",
   "execution_count": 2,
   "metadata": {},
   "outputs": [
    {
     "name": "stdout",
     "output_type": "stream",
     "text": [
      "686700.0\n"
     ]
    }
   ],
   "source": [
    "Total_nights = 7\n",
    "Tourist_tax = 3.27\n",
    "Total_visitors = 30000\n",
    "Tax_received = Tourist_tax * Total_nights * Total_visitors\n",
    "\n",
    "print(Tax_received)"
   ]
  },
  {
   "cell_type": "markdown",
   "metadata": {},
   "source": [
    "So the total amount of tourist tax Amsterdam will receive is €686,700.00."
   ]
  },
  {
   "cell_type": "markdown",
   "metadata": {},
   "source": [
    "**2. Plot the amount of AirBnB locations per neighbourhood.**\n",
    "\n",
    "This is the Python code that calculates how many Airbnb locations are present in each of the 22 neighbourhoods listed in the given CSV file and plots it.\n",
    "Moreover, some lines don’t respect the number of columns assigned. We fixed this by checking that each line of the CSV file has 18 values, the number of columns. We are then excluding some addresses because of some mistakes in the data frame."
   ]
  },
  {
   "cell_type": "code",
   "execution_count": null,
   "metadata": {},
   "outputs": [],
   "source": [
    "import pandas as pd\n",
    "import matplotlib.pyplot as plt\n",
    "\n",
    "file_path = '/Users/marco/Library/Mobile Documents/com~apple~CloudDocs/University/AMS/Metropolitan Data 1/Assignment_3/listings.csv'\n",
    "\n",
    "# Read the columns from the first line of the file\n",
    "with open(file_path, 'r') as file_handle:\n",
    "    columns = file_handle.readline().strip().split(',')\n",
    "\n",
    "# Count the number of rows in the file\n",
    "with open(file_path, 'r') as file_handle:\n",
    "    n_rows = sum(1 for line in file_handle) - 1  # Subtract 1 for the header\n",
    "\n",
    "# Create a list of row indices\n",
    "rows = list(range(1, n_rows + 1))\n",
    "\n",
    "# Create an empty DataFrame with the specified columns and row indices\n",
    "grid_Airbnb = pd.DataFrame(columns=columns, index=rows)\n",
    "\n",
    "# Read and fill the DataFrame with data from the file\n",
    "with open(file_path, 'r') as file_handle:\n",
    "    # Skip the first line (header)\n",
    "    next(file_handle)\n",
    "    \n",
    "    for k, line in enumerate(file_handle, start=1):\n",
    "        data = line.strip().split(',')\n",
    "        # Ensure data has the correct number of columns (18)\n",
    "        if len(data) == 18:\n",
    "            grid_Airbnb.iloc[k - 1] = data\n",
    "        else:\n",
    "            # Handle lines with incorrect number of columns (e.g., by skipping or logging them)\n",
    "            print(f\"Skipping line {k} due to incorrect number of columns: {line}\")\n",
    "\n",
    "neighborhood_counts = grid_Airbnb['neighbourhood'].value_counts()\n",
    "print(neighborhood_counts)\n",
    "\n",
    "plt.figure(figsize=(10, 6))  # Adjust the figure size as needed\n",
    "neighborhood_counts.plot(kind='bar')\n",
    "plt.title('Neighborhood Counts')\n",
    "plt.xlabel('Neighborhood')\n",
    "plt.ylabel('Count')\n",
    "plt.xticks(rotation=90)  # Rotate x-axis labels for better readability\n",
    "plt.tight_layout()\n",
    "\n",
    "# Display the plot\n",
    "plt.show()"
   ]
  }
 ],
 "metadata": {
  "kernelspec": {
   "display_name": "Python 3",
   "language": "python",
   "name": "python3"
  },
  "language_info": {
   "codemirror_mode": {
    "name": "ipython",
    "version": 3
   },
   "file_extension": ".py",
   "mimetype": "text/x-python",
   "name": "python",
   "nbconvert_exporter": "python",
   "pygments_lexer": "ipython3",
   "version": "3.11.5"
  }
 },
 "nbformat": 4,
 "nbformat_minor": 2
}
