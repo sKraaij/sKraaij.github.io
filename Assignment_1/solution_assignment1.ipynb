{
 "cells": [
  {
   "cell_type": "markdown",
   "metadata": {},
   "source": [
    "<header>\n",
    "    <div style=\"text-align: center;\">\n",
    "        <h1> MSc Metropolitan Analysis Design Engineering </h1>\n",
    "        <h1> Metropolitan Data 1 </h1>\n",
    "        <h3> Stef Kraaij, Eirini Terezaki, Marco Russo </h3>\n",
    "        <h4> <i>Assignment 1</i> </h4>\n",
    "    </div>\n",
    "</header>"
   ]
  },
  {
   "cell_type": "markdown",
   "metadata": {},
   "source": [
    "**1. What is the pollution level of the canals and is there data from all the canals? You can swim next to the AMS but the water there is heavily monitored, is this the same for the rest of Amsterdam?**\n",
    "\n",
    "After extensive internet research, we came into contact with [**Erik Spronk**](https://nl.linkedin.com/in/erik-robin-spronk/nl). \n",
    "We asked him for the necessary information about the “the surface water quality that is monitored by Waternet”, so he referred us to his colleague, Joost Stoffels.\n",
    "\n",
    "We emailed him asking for data about the water quality in Amsterdam canals, and he answered with 2 web links: [**national database of surface water quality data**](https://www.waterkwaliteitsportaal.nl/oppervlaktewaterkwaliteit) and [**an interesting map about water quality**](https://www.atlasleefomgeving.nl/kaarten?config=3ef897de-127f-471a-959b-93b7597de188&activateonstart=info&gm-z=3&gm-x=154393.4936882278&gm-y=409452.16000000003&gm-b=1544180834512%2Ctrue%2C1%3B1643366765402%2Ctrue%2C1%3B1643366424607%2Ctrue%2C1).\n",
    "\n",
    "<img src=\"sKraaij.github.io/Assignment_1/image1_1.png"/> \n",
    "\n",
    "There are multiple measuring points in Amsterdam, that are measured every 2 months. But it is not in every canal or every body of water. As you can see on the map above, which has limited points of measurement, the water quality is good enough for swimming in most places in the city center. It is clear that  the water isn't as heavily monitored as the water next to AMS."
   ]
  },
  {
   "cell_type": "markdown",
   "metadata": {},
   "source": [
    "**2. Think of a few data sets that are of use for giving a proper advice to the municipality.**\n",
    "\n",
    "From the first link we could find 2 different CSV files, we used the IM-measurements-2022 for this assignment. [**The first one**](https://waterkwaliteitsportaal.overheidsbestanden.nl/Oppervlaktewaterkwaliteit/Basisgegevens/Meetlocaties_2022.zip) gave us the locations of the measurements, while [**the second one**](https://waterkwaliteitsportaal.overheidsbestanden.nl/Oppervlaktewaterkwaliteit/MeetgegevensPerJaar/IM_Metingen_2022.zip) gave us the values of different properties like temperature, concentrations of chemical elements and pH. The IM_measurements_2022, has multiple datasets. We took the IM-measurements-2022_3_mnd05tm-06 because that has information about the month May which this assignment is about."
   ]
  },
  {
   "cell_type": "markdown",
   "metadata": {},
   "source": [
    "**3. What type of data format is the information you found stored in? Are they Excel files, csv files or some other format? Try to open the files and see if they are human readable (e.g., are they text files or binary – in this case you see a lot of weird characters).**\n",
    "\n",
    "The datasets that we found are csv files. CSV files are files where the data is split up with commas. The datasets we found are readable by humans, but the quantity of data points is enormous so the help of a program makes reading it easier. \n"
   ]
  },
  {
   "cell_type": "markdown",
   "metadata": {},
   "source": [
    "**4. Is the data stored numerical?**\n",
    "\n",
    "The dataset has most of the data in numerical form. There are some other types of data in text form but that is mostly explanatory of the numerical data."
   ]
  },
  {
   "cell_type": "markdown",
   "metadata": {},
   "source": [
    "**5. If you have geospatial data, can you figure out how the data is geometrically represented (points, lines, surfaces, hyperplanes)?**\n",
    "\n",
    "There is also geospatial data in the file with the locations. It has the X and Y coordinates of every measurement point. So there is geospatial point data, but not other forms of geospatial data like lines or polygons."
   ]
  },
  {
   "cell_type": "markdown",
   "metadata": {},
   "source": [
    "**6. If it is temporal data, what is the interval?**\n",
    "\n",
    "The data is temporal. Every measurement point has a specific time and date. This dataset has multiple other similar datasets where only the time of year changes. The dataset we used uses data from the months of May and June, while there are 5 other datasets that cover the remaining months. So the interval is two months."
   ]
  },
  {
   "cell_type": "markdown",
   "metadata": {},
   "source": [
    "**EXTRA**\n",
    "\n",
    "**a. Write a small Python script to print the data.**\n",
    "\n",
    "Here are the lines of code to open and print the database."
   ]
  },
  {
   "cell_type": "code",
   "execution_count": null,
   "metadata": {},
   "outputs": [],
   "source": [
    "import csv\n",
    "\n",
    "file_path = \"/Users/marco/Library/Mobile Documents/com~apple~CloudDocs/University/AMS/Metropolitan Data 1/Assignment_1/IM-Metingen_2022_3_mnd05tm-06.csv\"\n",
    "with open(file_path, \"r\") as file_handle:\n",
    "    for i in file_handle:\n",
    "        print(i)"
   ]
  },
  {
   "cell_type": "markdown",
   "metadata": {},
   "source": [
    "**b. Can you find the minimum and maximum values in the data? If you have a list you can use the min() and max() function (e.g., min(my_list))**\n",
    "\n",
    "Finding the minimum and maximum values per parameter in this dataset is complicated because the different parameters don't have their own column. Examples of parameters are kalium or lithium concentration in the water. But instead of having their own column they share a column. This makes finding the minimum and maximum values of the specific parameter hard.\n",
    "But if they had their own column we could have used this code to find the minimum or maximum values per parameter."
   ]
  },
  {
   "cell_type": "code",
   "execution_count": null,
   "metadata": {},
   "outputs": [],
   "source": [
    "# Initialize dictionaries to store minimum and maximum values for each column\n",
    "min_values = {}\n",
    "max_values = {}\n",
    "\n",
    "with open(file_path, \"r\", newline='') as file_handle:\n",
    "    csv_reader = csv.reader(file_handle)\n",
    "\n",
    "    # Read the header row to get column names\n",
    "    header = next(csv_reader)\n",
    "\n",
    "    # Initialize the dictionaries with the first row of data\n",
    "    for column_name in header:\n",
    "        min_values[column_name] = float('inf')  # Initialize to positive infinity\n",
    "        max_values[column_name] = float('-inf')  # Initialize to negative infinity\n",
    "\n",
    "    # Iterate through the remaining rows to find min and max values\n",
    "    for row in csv_reader:\n",
    "        for column_name, value in zip(header, row):\n",
    "            value = float(value)  # Assuming the data is numeric\n",
    "            if value < min_values[column_name]:\n",
    "                min_values[column_name] = value\n",
    "            if value > max_values[column_name]:\n",
    "                max_values[column_name] = value\n",
    "\n",
    "# Print the minimum and maximum values for each column\n",
    "for column_name in header:\n",
    "    print(f\"Column: {column_name}\")\n",
    "    print(f\"Minimum Value: {min_values[column_name]}\")\n",
    "    print(f\"Maximum Value: {max_values[column_name]}\")\n",
    "    print()"
   ]
  }
 ],
 "metadata": {
  "kernelspec": {
   "display_name": "Python 3",
   "language": "python",
   "name": "python3"
  },
  "language_info": {
   "codemirror_mode": {
    "name": "ipython",
    "version": 3
   },
   "file_extension": ".py",
   "mimetype": "text/x-python",
   "name": "python",
   "nbconvert_exporter": "python",
   "pygments_lexer": "ipython3",
   "version": "3.11.5"
  }
 },
 "nbformat": 4,
 "nbformat_minor": 2
}
