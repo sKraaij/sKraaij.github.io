{
 "cells": [
  {
   "cell_type": "markdown",
   "metadata": {},
   "source": [
    "<header>\n",
    "    <div style=\"text-align: center;\">\n",
    "        <h1> MSc Metropolitan Analysis Design Engineering </h1>\n",
    "        <h1> Metropolitan Data 1 </h1>\n",
    "        <h3> Stef Kraaij, Eirini Terezaki, Marco Russo </h3>\n",
    "        <h4> <i>Assignment 3</i> </h4>\n",
    "    </div>\n",
    "</header>"
   ]
  },
  {
   "cell_type": "markdown",
   "metadata": {},
   "source": [
    "For the forth assignment, we created a swimming path using some specific points and coordinates on the map. We created a html file, that can be opened with a web browser. That file contains a map centred around Amsterdam. With the list of the specific coordinates we choose, we created a polyline object that connects them. To reach that result we used this code: "
   ]
  },
  {
   "cell_type": "code",
   "execution_count": 2,
   "metadata": {},
   "outputs": [],
   "source": [
    "import folium\n",
    "import os\n",
    "\n",
    "map_amsterdam = folium.Map(location=[52.3667, 4.8945], zoom_start=13)\n",
    "\n",
    "coordinates = [(52.348285, 4.911252), (52.358752, 4.904938), (52.364527, 4.901816),\n",
    "(52.365808, 4.908862), (52.363347, 4.916383), (52.365858, 4.921591),\n",
    "(52.369648, 4.910720), (52.371231, 4.913101), (52.373051, 4.914184),\n",
    "(52.373275, 4.916235)]\n",
    "\n",
    "path = folium.PolyLine(locations=coordinates, color='blue', weight=2)\n",
    "\n",
    "path.add_to(map_amsterdam)\n",
    "\n",
    "folder_path = \"C:\\\\Users\\\\eterezakii\\\\Desktop\\\\AMS Stuff\"\n",
    "\n",
    "os.makedirs(folder_path, exist_ok=True)\n",
    "\n",
    "file_path = os.path.join(folder_path, 'amsterdam_map.html')\n",
    "map_amsterdam.save(file_path)"
   ]
  },
  {
   "cell_type": "markdown",
   "metadata": {},
   "source": [
    "In order to create the file, we had to define the path of the folder in the computer, in which the file will be placed. For the code to work with another user, the path must be changed to a new one."
   ]
  },
  {
   "cell_type": "markdown",
   "metadata": {},
   "source": [
    "**1. Find the centre of the nodes of the swimming route.**\n",
    "\n",
    "In order to calculate the central point of the swimming path, we created this code:"
   ]
  },
  {
   "cell_type": "code",
   "execution_count": 1,
   "metadata": {},
   "outputs": [
    {
     "name": "stdout",
     "output_type": "stream",
     "text": [
      "Center coordinates: (52.365378199999995, 4.911908199999999)\n"
     ]
    }
   ],
   "source": [
    "\n",
    "nodes = [(52.348285, 4.911252), (52.358752, 4.904938),(52.364527, 4.901816),(52.365808, 4.908862),(52.363347, 4.916383),(52.365858, 4.921591),(52.369648, 4.910720),(52.371231, 4.913101),(52.373051, 4.914184),(52.373275, 4.916235)]\n",
    "\n",
    "total_lat = 0\n",
    "total_lon = 0\n",
    "\n",
    "\n",
    "for node in nodes:\n",
    "    total_lat += node[0]\n",
    "    total_lon += node[1]\n",
    "\n",
    "\n",
    "center_lat = total_lat / len(nodes)\n",
    "center_lon = total_lon / len(nodes)\n",
    "\n",
    "\n",
    "print(f\"Center coordinates: ({center_lat}, {center_lon})\")"
   ]
  },
  {
   "cell_type": "markdown",
   "metadata": {},
   "source": [
    "The result we get from running this script is these coordinates: (52.365378199999995, 4.911908199999999)\n",
    "So this is the point that is in the middle of our swimming route."
   ]
  },
  {
   "cell_type": "markdown",
   "metadata": {},
   "source": [
    "**2. Use the centre to find a suitable spot for the Event Headquarters.**"
   ]
  },
  {
   "cell_type": "markdown",
   "metadata": {},
   "source": [
    "In the previous question we found the center of our swimming route. The center is around the Amsterdam Business school. That school is also along the route next to the water, so it has direct connection with the swimming route. Because it is Amsterdam Business School, we believe that it is the perfect place to use as the event headquarters as it will probably have facilities to accomodate the headquarters of the event. "
   ]
  },
  {
   "cell_type": "markdown",
   "metadata": {},
   "source": [
    "**3. Find the closest bus and tram stops at the start and finish of the swimming route. How\n",
    "many people can be transported within an hour.**"
   ]
  },
  {
   "cell_type": "markdown",
   "metadata": {},
   "source": [
    "The closest tram station from our event headquarters is the tram station called ‘Artis’. This station has tramlines 14, 4  and bus lines N87 and N89. \n",
    "\n",
    "Tram 4 is four times an hour either direction.\n",
    "Tram 14 is four times an hour either direction.\n",
    "Given that Bus N87 and N89 are nightbuses, we don't take them into accont for the assignment.\n",
    "\n",
    "So, according to GVB the most common tram is the G13 or G14. These trams have a capacity of 125 or 150 respectively. So let's take the average which is 138.\n",
    "\n",
    "So there are 8 trams an hour, with an average capacity of 138. \n"
   ]
  },
  {
   "cell_type": "code",
   "execution_count": 4,
   "metadata": {},
   "outputs": [
    {
     "name": "stdout",
     "output_type": "stream",
     "text": [
      "1104\n"
     ]
    }
   ],
   "source": [
    "Average_Capacity = 138\n",
    "Trams = 8\n",
    "\n",
    "Flowrate_hour = Trams * Average_Capacity\n",
    "\n",
    "print(Flowrate_hour)"
   ]
  },
  {
   "cell_type": "markdown",
   "metadata": {},
   "source": [
    "The amount of people that can be transported within an hour through these trams is 1104 people."
   ]
  },
  {
   "cell_type": "markdown",
   "metadata": {},
   "source": [
    "**4. Can you find which bus and tram lines these are, and can you find their routes?**"
   ]
  },
  {
   "cell_type": "markdown",
   "metadata": {},
   "source": [
    "We made a map just like in the first question. More specifically,we updated the code which we used for the mapping of our path. Now both the swimming route and the tram route are visible on the map in the html file. The difference now is that along with the swimming path, the route of Tram 14 is also visible."
   ]
  },
  {
   "cell_type": "code",
   "execution_count": 6,
   "metadata": {},
   "outputs": [],
   "source": [
    "import folium\n",
    "import os\n",
    "\n",
    "map_amsterdam = folium.Map(location=[52.3667, 4.8945], zoom_start=13)\n",
    "\n",
    "coordinates1 = [(52.348285, 4.911252), (52.358752, 4.904938), (52.364527, 4.901816),\n",
    "(52.365808, 4.908862), (52.363347, 4.916383), (52.365858, 4.921591),\n",
    "(52.369648, 4.910720), (52.371231, 4.913101), (52.373051, 4.914184),\n",
    "(52.373275, 4.916235)]\n",
    "\n",
    "coordinates2 = [(52.377617, 4.901658), (52.377946, 4.899388), (52.373118, 4.893331),\n",
    "(52.369288, 4.892183), (52.367063, 4.893618), (52.366283, 4.896869),\n",
    "(52.366252, 4.900320), (52.367188, 4.902159), (52.368037, 4.905431),\n",
    "(52.366699, 4.911111), (52.363121, 4.920102), (52.365912, 4.927030),\n",
    "(52.366030, 4.932353), (52.363754, 4.939550), (52.361622, 4.939744),\n",
    "(52.362623, 4.946752), (52.365135, 4.947992), (52.365238, 4.951205)]\n",
    "\n",
    "path1 = folium.PolyLine(locations=coordinates1, color='blue', weight=2)\n",
    "path2 = folium.PolyLine(locations=coordinates2, color='red', weight=2)\n",
    "\n",
    "path1.add_to(map_amsterdam)\n",
    "path2.add_to(map_amsterdam)\n",
    "\n",
    "folder_path = \"C:\\\\Users\\\\eterezakii\\\\Desktop\\\\AMS Stuff\"\n",
    "\n",
    "os.makedirs(folder_path, exist_ok=True)\n",
    "\n",
    "file_path = os.path.join(folder_path, 'amsterdam_map.html')\n",
    "map_amsterdam.save(file_path)\n"
   ]
  },
  {
   "cell_type": "markdown",
   "metadata": {},
   "source": [
    "**5. Calculate the centrality of the start, finish, and centre node of the route. Which\n",
    "centrality calculation makes the most sense.**"
   ]
  },
  {
   "cell_type": "markdown",
   "metadata": {},
   "source": [
    "We defined centrality as the relation of the starting point, the ending point of the path and the central point we calculated earlier with the street network of Amsterdam. To be more specific, we calculated the centrality based on the street system of the area around our path and how easy it is to get to these points. If the point of research  gets 0 that it has no centrality and if it has 1 it has 100% centrality."
   ]
  },
  {
   "cell_type": "code",
   "execution_count": 1,
   "metadata": {},
   "outputs": [],
   "source": [
    "import osmnx as ox\n",
    "import networkx as nx\n",
    "import folium\n",
    "\n",
    "start_point = (52.348285, 4.911252)\n",
    "end_point = (52.373275, 4.916235)\n",
    "new_point = (52.365378199999995, 4.911908199999999)\n",
    "\n",
    "graph = ox.graph.graph_from_point(start_point, dist=2000, network_type='all')\n",
    "\n",
    "centrality = nx.closeness_centrality(graph)\n",
    "\n",
    "start_node = ox.distance.nearest_nodes(graph, start_point[0], start_point[1])\n",
    "end_node = ox.distance.nearest_nodes(graph, end_point[0], end_point[1])\n",
    "new_node = ox.distance.nearest_nodes(graph, new_point[0], new_point[1])\n",
    "\n",
    "\n",
    "start_centrality = centrality[start_node]\n",
    "end_centrality = centrality[end_node]\n",
    "new_centrality = centrality[new_node]\n",
    "\n",
    "map_center = folium.Map(location=start_point, zoom_start=13)\n",
    "\n",
    "\n",
    "folium.Marker(start_point, icon=folium.Icon(color='blue')).add_to(map_center)\n",
    "folium.Marker(end_point, icon=folium.Icon(color='red')).add_to(map_center)\n",
    "folium.Marker(new_point, icon=folium.Icon(color='green')).add_to(map_center)\n",
    "\n",
    "\n",
    "folium.Marker(start_point, icon=folium.Icon(color='blue'), popup=f'Starting Centrality: {start_centrality}').add_to(map_center)\n",
    "folium.Marker(end_point, icon=folium.Icon(color='red'), popup=f'Ending Centrality: {end_centrality}').add_to(map_center)\n",
    "folium.Marker(new_point, icon=folium.Icon(color='green'), popup=f'New Point Centrality: {new_centrality}').add_to(map_center)\n",
    "\n",
    "file_path = \"C:\\\\Users\\\\eterezakii\\\\Desktop\\\\AMS Stuff\\\\centrality_map.html\"\n",
    "map_center.save(file_path)\n"
   ]
  },
  {
   "cell_type": "markdown",
   "metadata": {},
   "source": [
    "So, the result is a file of a map that when you click on the three points of interest you get the centrality of them: "
   ]
  },
  {
   "cell_type": "markdown",
   "metadata": {},
   "source": [
    " **6. Find all cafes, restaurants near the finish line. Walking time smaller than 10 minutes.**"
   ]
  },
  {
   "cell_type": "markdown",
   "metadata": {},
   "source": [
    "The number of horeca we've found within 1km distance from the end point is 115\n"
   ]
  },
  {
   "cell_type": "code",
   "execution_count": 2,
   "metadata": {},
   "outputs": [
    {
     "ename": "FileNotFoundError",
     "evalue": "[Errno 2] No such file or directory: 'C:\\\\Users\\\\Stef_\\\\OneDrive\\\\Documenten\\\\MADE\\\\Metropolitan Data\\\\Github repository Data 1\\\\Assignment 4 Transport\\\\FUNCTIEKAART.csv'",
     "output_type": "error",
     "traceback": [
      "\u001b[1;31m---------------------------------------------------------------------------\u001b[0m",
      "\u001b[1;31mFileNotFoundError\u001b[0m                         Traceback (most recent call last)",
      "\u001b[1;32mc:\\Users\\eterezakii\\Desktop\\AMS Stuff\\Metropolitan Data 1\\assign 4\\Untitled-1.ipynb Cell 22\u001b[0m line \u001b[0;36m1\n\u001b[0;32m      <a href='vscode-notebook-cell:/c%3A/Users/eterezakii/Desktop/AMS%20Stuff/Metropolitan%20Data%201/assign%204/Untitled-1.ipynb#X30sZmlsZQ%3D%3D?line=5'>6</a>\u001b[0m pd\u001b[39m.\u001b[39mset_option(\u001b[39m'\u001b[39m\u001b[39mdisplay.max_rows\u001b[39m\u001b[39m'\u001b[39m, \u001b[39mNone\u001b[39;00m)\n\u001b[0;32m      <a href='vscode-notebook-cell:/c%3A/Users/eterezakii/Desktop/AMS%20Stuff/Metropolitan%20Data%201/assign%204/Untitled-1.ipynb#X30sZmlsZQ%3D%3D?line=7'>8</a>\u001b[0m pd\u001b[39m.\u001b[39mset_option(\u001b[39m'\u001b[39m\u001b[39mdisplay.max_rows\u001b[39m\u001b[39m'\u001b[39m, \u001b[39mNone\u001b[39;00m)\n\u001b[1;32m---> <a href='vscode-notebook-cell:/c%3A/Users/eterezakii/Desktop/AMS%20Stuff/Metropolitan%20Data%201/assign%204/Untitled-1.ipynb#X30sZmlsZQ%3D%3D?line=9'>10</a>\u001b[0m df \u001b[39m=\u001b[39m pd\u001b[39m.\u001b[39;49mread_csv(\u001b[39m\"\u001b[39;49m\u001b[39mC:\u001b[39;49m\u001b[39m\\\\\u001b[39;49;00m\u001b[39mUsers\u001b[39;49m\u001b[39m\\\\\u001b[39;49;00m\u001b[39mStef_\u001b[39;49m\u001b[39m\\\\\u001b[39;49;00m\u001b[39mOneDrive\u001b[39;49m\u001b[39m\\\\\u001b[39;49;00m\u001b[39mDocumenten\u001b[39;49m\u001b[39m\\\\\u001b[39;49;00m\u001b[39mMADE\u001b[39;49m\u001b[39m\\\\\u001b[39;49;00m\u001b[39mMetropolitan Data\u001b[39;49m\u001b[39m\\\\\u001b[39;49;00m\u001b[39mGithub repository Data 1\u001b[39;49m\u001b[39m\\\\\u001b[39;49;00m\u001b[39mAssignment 4 Transport\u001b[39;49m\u001b[39m\\\\\u001b[39;49;00m\u001b[39mFUNCTIEKAART.csv\u001b[39;49m\u001b[39m\"\u001b[39;49m, delimiter\u001b[39m=\u001b[39;49m\u001b[39m'\u001b[39;49m\u001b[39m;\u001b[39;49m\u001b[39m'\u001b[39;49m)\n\u001b[0;32m     <a href='vscode-notebook-cell:/c%3A/Users/eterezakii/Desktop/AMS%20Stuff/Metropolitan%20Data%201/assign%204/Untitled-1.ipynb#X30sZmlsZQ%3D%3D?line=12'>13</a>\u001b[0m horeca_df \u001b[39m=\u001b[39m df[df[\u001b[39m'\u001b[39m\u001b[39mFunctie\u001b[39m\u001b[39m'\u001b[39m] \u001b[39m==\u001b[39m \u001b[39m'\u001b[39m\u001b[39mHoreca\u001b[39m\u001b[39m'\u001b[39m]\n\u001b[0;32m     <a href='vscode-notebook-cell:/c%3A/Users/eterezakii/Desktop/AMS%20Stuff/Metropolitan%20Data%201/assign%204/Untitled-1.ipynb#X30sZmlsZQ%3D%3D?line=14'>15</a>\u001b[0m end_location \u001b[39m=\u001b[39m (\u001b[39m52.373275\u001b[39m, \u001b[39m4.916235\u001b[39m)\n",
      "File \u001b[1;32mc:\\Users\\eterezakii\\AppData\\Local\\Programs\\Python\\Python311\\Lib\\site-packages\\pandas\\io\\parsers\\readers.py:948\u001b[0m, in \u001b[0;36mread_csv\u001b[1;34m(filepath_or_buffer, sep, delimiter, header, names, index_col, usecols, dtype, engine, converters, true_values, false_values, skipinitialspace, skiprows, skipfooter, nrows, na_values, keep_default_na, na_filter, verbose, skip_blank_lines, parse_dates, infer_datetime_format, keep_date_col, date_parser, date_format, dayfirst, cache_dates, iterator, chunksize, compression, thousands, decimal, lineterminator, quotechar, quoting, doublequote, escapechar, comment, encoding, encoding_errors, dialect, on_bad_lines, delim_whitespace, low_memory, memory_map, float_precision, storage_options, dtype_backend)\u001b[0m\n\u001b[0;32m    935\u001b[0m kwds_defaults \u001b[39m=\u001b[39m _refine_defaults_read(\n\u001b[0;32m    936\u001b[0m     dialect,\n\u001b[0;32m    937\u001b[0m     delimiter,\n\u001b[1;32m   (...)\u001b[0m\n\u001b[0;32m    944\u001b[0m     dtype_backend\u001b[39m=\u001b[39mdtype_backend,\n\u001b[0;32m    945\u001b[0m )\n\u001b[0;32m    946\u001b[0m kwds\u001b[39m.\u001b[39mupdate(kwds_defaults)\n\u001b[1;32m--> 948\u001b[0m \u001b[39mreturn\u001b[39;00m _read(filepath_or_buffer, kwds)\n",
      "File \u001b[1;32mc:\\Users\\eterezakii\\AppData\\Local\\Programs\\Python\\Python311\\Lib\\site-packages\\pandas\\io\\parsers\\readers.py:611\u001b[0m, in \u001b[0;36m_read\u001b[1;34m(filepath_or_buffer, kwds)\u001b[0m\n\u001b[0;32m    608\u001b[0m _validate_names(kwds\u001b[39m.\u001b[39mget(\u001b[39m\"\u001b[39m\u001b[39mnames\u001b[39m\u001b[39m\"\u001b[39m, \u001b[39mNone\u001b[39;00m))\n\u001b[0;32m    610\u001b[0m \u001b[39m# Create the parser.\u001b[39;00m\n\u001b[1;32m--> 611\u001b[0m parser \u001b[39m=\u001b[39m TextFileReader(filepath_or_buffer, \u001b[39m*\u001b[39;49m\u001b[39m*\u001b[39;49mkwds)\n\u001b[0;32m    613\u001b[0m \u001b[39mif\u001b[39;00m chunksize \u001b[39mor\u001b[39;00m iterator:\n\u001b[0;32m    614\u001b[0m     \u001b[39mreturn\u001b[39;00m parser\n",
      "File \u001b[1;32mc:\\Users\\eterezakii\\AppData\\Local\\Programs\\Python\\Python311\\Lib\\site-packages\\pandas\\io\\parsers\\readers.py:1448\u001b[0m, in \u001b[0;36mTextFileReader.__init__\u001b[1;34m(self, f, engine, **kwds)\u001b[0m\n\u001b[0;32m   1445\u001b[0m     \u001b[39mself\u001b[39m\u001b[39m.\u001b[39moptions[\u001b[39m\"\u001b[39m\u001b[39mhas_index_names\u001b[39m\u001b[39m\"\u001b[39m] \u001b[39m=\u001b[39m kwds[\u001b[39m\"\u001b[39m\u001b[39mhas_index_names\u001b[39m\u001b[39m\"\u001b[39m]\n\u001b[0;32m   1447\u001b[0m \u001b[39mself\u001b[39m\u001b[39m.\u001b[39mhandles: IOHandles \u001b[39m|\u001b[39m \u001b[39mNone\u001b[39;00m \u001b[39m=\u001b[39m \u001b[39mNone\u001b[39;00m\n\u001b[1;32m-> 1448\u001b[0m \u001b[39mself\u001b[39m\u001b[39m.\u001b[39m_engine \u001b[39m=\u001b[39m \u001b[39mself\u001b[39;49m\u001b[39m.\u001b[39;49m_make_engine(f, \u001b[39mself\u001b[39;49m\u001b[39m.\u001b[39;49mengine)\n",
      "File \u001b[1;32mc:\\Users\\eterezakii\\AppData\\Local\\Programs\\Python\\Python311\\Lib\\site-packages\\pandas\\io\\parsers\\readers.py:1705\u001b[0m, in \u001b[0;36mTextFileReader._make_engine\u001b[1;34m(self, f, engine)\u001b[0m\n\u001b[0;32m   1703\u001b[0m     \u001b[39mif\u001b[39;00m \u001b[39m\"\u001b[39m\u001b[39mb\u001b[39m\u001b[39m\"\u001b[39m \u001b[39mnot\u001b[39;00m \u001b[39min\u001b[39;00m mode:\n\u001b[0;32m   1704\u001b[0m         mode \u001b[39m+\u001b[39m\u001b[39m=\u001b[39m \u001b[39m\"\u001b[39m\u001b[39mb\u001b[39m\u001b[39m\"\u001b[39m\n\u001b[1;32m-> 1705\u001b[0m \u001b[39mself\u001b[39m\u001b[39m.\u001b[39mhandles \u001b[39m=\u001b[39m get_handle(\n\u001b[0;32m   1706\u001b[0m     f,\n\u001b[0;32m   1707\u001b[0m     mode,\n\u001b[0;32m   1708\u001b[0m     encoding\u001b[39m=\u001b[39;49m\u001b[39mself\u001b[39;49m\u001b[39m.\u001b[39;49moptions\u001b[39m.\u001b[39;49mget(\u001b[39m\"\u001b[39;49m\u001b[39mencoding\u001b[39;49m\u001b[39m\"\u001b[39;49m, \u001b[39mNone\u001b[39;49;00m),\n\u001b[0;32m   1709\u001b[0m     compression\u001b[39m=\u001b[39;49m\u001b[39mself\u001b[39;49m\u001b[39m.\u001b[39;49moptions\u001b[39m.\u001b[39;49mget(\u001b[39m\"\u001b[39;49m\u001b[39mcompression\u001b[39;49m\u001b[39m\"\u001b[39;49m, \u001b[39mNone\u001b[39;49;00m),\n\u001b[0;32m   1710\u001b[0m     memory_map\u001b[39m=\u001b[39;49m\u001b[39mself\u001b[39;49m\u001b[39m.\u001b[39;49moptions\u001b[39m.\u001b[39;49mget(\u001b[39m\"\u001b[39;49m\u001b[39mmemory_map\u001b[39;49m\u001b[39m\"\u001b[39;49m, \u001b[39mFalse\u001b[39;49;00m),\n\u001b[0;32m   1711\u001b[0m     is_text\u001b[39m=\u001b[39;49mis_text,\n\u001b[0;32m   1712\u001b[0m     errors\u001b[39m=\u001b[39;49m\u001b[39mself\u001b[39;49m\u001b[39m.\u001b[39;49moptions\u001b[39m.\u001b[39;49mget(\u001b[39m\"\u001b[39;49m\u001b[39mencoding_errors\u001b[39;49m\u001b[39m\"\u001b[39;49m, \u001b[39m\"\u001b[39;49m\u001b[39mstrict\u001b[39;49m\u001b[39m\"\u001b[39;49m),\n\u001b[0;32m   1713\u001b[0m     storage_options\u001b[39m=\u001b[39;49m\u001b[39mself\u001b[39;49m\u001b[39m.\u001b[39;49moptions\u001b[39m.\u001b[39;49mget(\u001b[39m\"\u001b[39;49m\u001b[39mstorage_options\u001b[39;49m\u001b[39m\"\u001b[39;49m, \u001b[39mNone\u001b[39;49;00m),\n\u001b[0;32m   1714\u001b[0m )\n\u001b[0;32m   1715\u001b[0m \u001b[39massert\u001b[39;00m \u001b[39mself\u001b[39m\u001b[39m.\u001b[39mhandles \u001b[39mis\u001b[39;00m \u001b[39mnot\u001b[39;00m \u001b[39mNone\u001b[39;00m\n\u001b[0;32m   1716\u001b[0m f \u001b[39m=\u001b[39m \u001b[39mself\u001b[39m\u001b[39m.\u001b[39mhandles\u001b[39m.\u001b[39mhandle\n",
      "File \u001b[1;32mc:\\Users\\eterezakii\\AppData\\Local\\Programs\\Python\\Python311\\Lib\\site-packages\\pandas\\io\\common.py:863\u001b[0m, in \u001b[0;36mget_handle\u001b[1;34m(path_or_buf, mode, encoding, compression, memory_map, is_text, errors, storage_options)\u001b[0m\n\u001b[0;32m    858\u001b[0m \u001b[39melif\u001b[39;00m \u001b[39misinstance\u001b[39m(handle, \u001b[39mstr\u001b[39m):\n\u001b[0;32m    859\u001b[0m     \u001b[39m# Check whether the filename is to be opened in binary mode.\u001b[39;00m\n\u001b[0;32m    860\u001b[0m     \u001b[39m# Binary mode does not support 'encoding' and 'newline'.\u001b[39;00m\n\u001b[0;32m    861\u001b[0m     \u001b[39mif\u001b[39;00m ioargs\u001b[39m.\u001b[39mencoding \u001b[39mand\u001b[39;00m \u001b[39m\"\u001b[39m\u001b[39mb\u001b[39m\u001b[39m\"\u001b[39m \u001b[39mnot\u001b[39;00m \u001b[39min\u001b[39;00m ioargs\u001b[39m.\u001b[39mmode:\n\u001b[0;32m    862\u001b[0m         \u001b[39m# Encoding\u001b[39;00m\n\u001b[1;32m--> 863\u001b[0m         handle \u001b[39m=\u001b[39m \u001b[39mopen\u001b[39;49m(\n\u001b[0;32m    864\u001b[0m             handle,\n\u001b[0;32m    865\u001b[0m             ioargs\u001b[39m.\u001b[39;49mmode,\n\u001b[0;32m    866\u001b[0m             encoding\u001b[39m=\u001b[39;49mioargs\u001b[39m.\u001b[39;49mencoding,\n\u001b[0;32m    867\u001b[0m             errors\u001b[39m=\u001b[39;49merrors,\n\u001b[0;32m    868\u001b[0m             newline\u001b[39m=\u001b[39;49m\u001b[39m\"\u001b[39;49m\u001b[39m\"\u001b[39;49m,\n\u001b[0;32m    869\u001b[0m         )\n\u001b[0;32m    870\u001b[0m     \u001b[39melse\u001b[39;00m:\n\u001b[0;32m    871\u001b[0m         \u001b[39m# Binary mode\u001b[39;00m\n\u001b[0;32m    872\u001b[0m         handle \u001b[39m=\u001b[39m \u001b[39mopen\u001b[39m(handle, ioargs\u001b[39m.\u001b[39mmode)\n",
      "\u001b[1;31mFileNotFoundError\u001b[0m: [Errno 2] No such file or directory: 'C:\\\\Users\\\\Stef_\\\\OneDrive\\\\Documenten\\\\MADE\\\\Metropolitan Data\\\\Github repository Data 1\\\\Assignment 4 Transport\\\\FUNCTIEKAART.csv'"
     ]
    }
   ],
   "source": [
    "import pandas as pd\n",
    "from geopy.distance import geodesic\n",
    "\n",
    "pd.set_option('display.max_columns', None)\n",
    "pd.set_option('display.expand_frame_repr', False)\n",
    "pd.set_option('display.max_rows', None)\n",
    "\n",
    "pd.set_option('display.max_rows', None)\n",
    "\n",
    "df = pd.read_csv(\"C:\\\\Users\\\\Stef_\\\\OneDrive\\\\Documenten\\\\MADE\\\\Metropolitan Data\\\\Github repository Data 1\\\\Assignment 4 Transport\\\\FUNCTIEKAART.csv\", delimiter=';')\n",
    "\n",
    "\n",
    "horeca_df = df[df['Functie'] == 'Horeca']\n",
    "\n",
    "end_location = (52.373275, 4.916235)\n",
    "\n",
    "\n",
    "def extract_coordinates(row):\n",
    "    \n",
    "    coordinates_str = row['WKT_LAT_LNG'].split('(')[1].rstrip(')').split()\n",
    "    return (float(coordinates_str[0]), float(coordinates_str[1]))\n",
    "\n",
    "\n",
    "horeca_df = horeca_df.copy()\n",
    "\n",
    "horeca_df['Coordinates'] = horeca_df.apply(extract_coordinates, axis=1)\n",
    "horeca_df['Distance'] = horeca_df['Coordinates'].apply(lambda coords: geodesic(end_location, coords).meters)\n",
    "\n",
    "\n",
    "close_horeca = horeca_df[horeca_df['Distance'] <= 1000]\n",
    "\n",
    "num_horeca_found = len(close_horeca)\n",
    "\n",
    "print(f\"The number of horeca we've found within 1km distance from the end point is {num_horeca_found}\")\n",
    "\n",
    "\n",
    "print(\"Here is the list of the found horecas:\")\n",
    "\n",
    "print(close_horeca[['OBJECTNUMMER', 'Adres', 'Gebruiksdoel', 'Objectsoort']])"
   ]
  },
  {
   "cell_type": "markdown",
   "metadata": {},
   "source": [
    "With this code we were able to print the coordinates the points of interest and then use them to create a map with them so we can visually see where they are in the map."
   ]
  },
  {
   "cell_type": "code",
   "execution_count": 3,
   "metadata": {},
   "outputs": [],
   "source": [
    "import folium\n",
    "\n",
    "\n",
    "point_coordinates = [\n",
    "    (52.3739837, 4.9019093),\n",
    "    (52.3738505, 4.9022631),\n",
    "    (52.3736277, 4.9027502),\n",
    "    (52.3739038, 4.9021158),\n",
    "    (52.3738862, 4.9022041),\n",
    "    (52.3675904, 4.9258969),\n",
    "    (52.36794, 4.9256583),\n",
    "    (52.3698595, 4.9293091),\n",
    "    (52.3706896, 4.9301375),\n",
    "    (52.3686264, 4.9265174),\n",
    "    (52.369371, 4.9284919),\n",
    "    (52.3694525, 4.9286525),\n",
    "    (52.3696968, 4.929076),\n",
    "    (52.3777809, 4.9051722),\n",
    "    (52.3777809, 4.9051722),\n",
    "    (52.376288, 4.9116205),\n",
    "    (52.3688658, 4.9142548),\n",
    "    (52.3681012, 4.9163771),\n",
    "    (52.3696563, 4.9119117),\n",
    "    (52.3754778, 4.9024069),\n",
    "    (52.3754598, 4.9024072),\n",
    "    (52.3758379, 4.9025791),\n",
    "    (52.3740819, 4.9017172),\n",
    "    (52.3739738, 4.9016744),\n",
    "    (52.3760709, 4.9068354),\n",
    "    (52.3701717, 4.9126844),\n",
    "    (52.3714067, 4.9273403),\n",
    "    (52.3766592, 4.9213824),\n",
    "    (52.3771131, 4.9202322),\n",
    "    (52.3702783, 4.9123895),\n",
    "    (52.3701804, 4.9126109),\n",
    "    (52.3700338, 4.9119224),\n",
    "    (52.3701155, 4.9121123),\n",
    "    (52.3702151, 4.9123169),\n",
    "    (52.3708874, 4.9163622),\n",
    "    (52.372411, 4.9019116),\n",
    "    (52.3723484, 4.9020153),\n",
    "    (52.3720707, 4.9022237),\n",
    "    (52.3717866, 4.9030933),\n",
    "    (52.3714876, 4.9024797),\n",
    "    (52.3684723, 4.9058016),\n",
    "    (52.3674136, 4.9062535),\n",
    "    (52.3750047, 4.9304309),\n",
    "    (52.3678938, 4.9253505),\n",
    "    (52.3678943, 4.9254825),\n",
    "    (52.3692605, 4.9209166),\n",
    "    (52.368994, 4.9216975),\n",
    "    (52.3689584, 4.921786),\n",
    "    (52.3684874, 4.9231565),\n",
    "    (52.3681144, 4.924291),\n",
    "    (52.3689144, 4.9220214),\n",
    "    (52.3768164, 4.9044924),\n",
    "    (52.3758586, 4.9076748),\n",
    "    (52.3758498, 4.9077042),\n",
    "    (52.375859, 4.9077629),\n",
    "    (52.3758501, 4.9077777),\n",
    "    (52.3757993, 4.9085565),\n",
    "    (52.3765854, 4.9051557),\n",
    "    (52.3731633, 4.9034895),\n",
    "    (52.3731365, 4.9035192),\n",
    "    (52.3716606, 4.9074852),\n",
    "    (52.3715808, 4.9077209),\n",
    "    (52.37677, 4.9221595),\n",
    "    (52.376779, 4.9221594),\n",
    "    (52.3778307, 4.9153489),\n",
    "    (52.3774764, 4.9121512),\n",
    "    (52.3779568, 4.9154211),\n",
    "    (52.3776451, 4.9161293),\n",
    "    (52.3774592, 4.9123422),\n",
    "    (52.3774147, 4.9169689),\n",
    "    (52.3774512, 4.9125627),\n",
    "    (52.3656725, 4.9113376),\n",
    "    (52.3655281, 4.9111924),\n",
    "    (52.3659792, 4.9116279),\n",
    "    (52.3660243, 4.9116715),\n",
    "    (52.3660965, 4.9117296),\n",
    "    (52.3668432, 4.9119418),\n",
    "    (52.3667732, 4.9123976),\n",
    "    (52.3669064, 4.911985),\n",
    "    (52.3669785, 4.9120431),\n",
    "    (52.367186, 4.9122464),\n",
    "    (52.3678174, 4.9127976),\n",
    "    (52.3665249, 4.9109907),\n",
    "    (52.3662229, 4.9118603),\n",
    "    (52.3666445, 4.9116648),\n",
    "    (52.3659107, 4.9124655),\n",
    "    (52.3657147, 4.910647),\n",
    "    (52.3673551, 4.909587),\n",
    "    (52.3756596, 4.9029189),\n",
    "    (52.3753986, 4.9028335),\n",
    "    (52.3741754, 4.9048148),\n",
    "    (52.3710051, 4.9120735),\n",
    "    (52.3759465, 4.9027396),\n",
    "    (52.37592, 4.9028573),\n",
    "    (52.3717063, 4.9076608),\n",
    "    (52.370444, 4.9110956),\n",
    "    (52.3703894, 4.9109641),\n",
    "    (52.3703349, 4.9108179),\n",
    "    (52.3700556, 4.9106153),\n",
    "    (52.3683485, 4.9063168),\n",
    "    (52.3666151, 4.9247177),\n",
    "    (52.3708152, 4.9117818),\n",
    "    (52.3794977, 4.9255823),\n",
    "    (52.3792283, 4.9233234),\n",
    "    (52.3714679, 4.9222884),\n",
    "    (52.3688488, 4.9055626),\n",
    "    (52.3705156, 4.9087895),\n",
    "    (52.3704973, 4.908731),\n",
    "    (52.3763959, 4.9253062),\n",
    "    (52.3759823, 4.9275867),\n",
    "    (52.3719517, 4.9265123),\n",
    "    (52.3759049, 4.9079973),\n",
    "    (52.3734985, 4.9244259),\n",
    "    (52.3700608, 4.9187058),\n",
    "    (52.3668263, 4.9258754)\n",
    "]\n",
    "\n",
    "center_lat, center_lon = 52.373275, 4.916235\n",
    "\n",
    "map_with_circle = folium.Map(location=[center_lat, center_lon], zoom_start=13)\n",
    "\n",
    "for coordinate in point_coordinates:\n",
    "    folium.Marker(location=coordinate).add_to(map_with_circle)\n",
    "\n",
    "\n",
    "folium.Circle(location=[center_lat, center_lon], radius=1000, color='blue', fill=True, fill_opacity=0.2).add_to(map_with_circle)\n",
    "\n",
    "\n",
    "file_path = \"C:\\\\Users\\\\eterezakii\\\\Desktop\\\\AMS Stuff\\\\centrality_map_with_circle.html\"\n",
    "map_with_circle.save(file_path)\n"
   ]
  },
  {
   "cell_type": "markdown",
   "metadata": {},
   "source": [
    "As with previous questions, we again create a file that can be opened with a web browser. The file contains a map of Amsterdam that has all the horeca points on it."
   ]
  }
 ],
 "metadata": {
  "kernelspec": {
   "display_name": "Python 3",
   "language": "python",
   "name": "python3"
  },
  "language_info": {
   "codemirror_mode": {
    "name": "ipython",
    "version": 3
   },
   "file_extension": ".py",
   "mimetype": "text/x-python",
   "name": "python",
   "nbconvert_exporter": "python",
   "pygments_lexer": "ipython3",
   "version": "3.11.5"
  }
 },
 "nbformat": 4,
 "nbformat_minor": 2
}
