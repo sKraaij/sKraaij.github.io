{
 "cells": [
  {
   "cell_type": "markdown",
   "metadata": {},
   "source": [
    "<header>\n",
    "    <div style=\"text-align: center;\">\n",
    "        <h1> MSc Metropolitan Analysis Design Engineering </h1>\n",
    "        <h1> Metropolitan Data 1 </h1>\n",
    "        <h3> Stef Kraaij, Eirini Terezaki, Marco Russo </h3>\n",
    "        <h4> <i>Assignment 4</i> </h4>\n",
    "    </div>\n",
    "</header>"
   ]
  },
  {
   "cell_type": "markdown",
   "metadata": {},
   "source": [
    "For the forth assignment, we created a swimming path using some specific points and coordinates on the map. We created a html file, that can be opened with a web browser. That file contains a map centred around Amsterdam. With the list of the specific coordinates we choose, we created a polyline object that connects them. To reach that result we used this code: "
   ]
  },
  {
   "cell_type": "code",
   "execution_count": 2,
   "metadata": {},
   "outputs": [],
   "source": [
    "import folium\n",
    "import os\n",
    "\n",
    "map_amsterdam = folium.Map(location=[52.3667, 4.8945], zoom_start=13)\n",
    "\n",
    "coordinates = [(52.348285, 4.911252), (52.358752, 4.904938), (52.364527, 4.901816),\n",
    "(52.365808, 4.908862), (52.363347, 4.916383), (52.365858, 4.921591),\n",
    "(52.369648, 4.910720), (52.371231, 4.913101), (52.373051, 4.914184),\n",
    "(52.373275, 4.916235)]\n",
    "\n",
    "path = folium.PolyLine(locations=coordinates, color='blue', weight=2)\n",
    "\n",
    "path.add_to(map_amsterdam)\n",
    "\n",
    "folder_path = \"C:\\\\Users\\\\eterezakii\\\\Desktop\\\\AMS Stuff\"\n",
    "\n",
    "os.makedirs(folder_path, exist_ok=True)\n",
    "\n",
    "file_path = os.path.join(folder_path, 'amsterdam_map.html')\n",
    "map_amsterdam.save(file_path)"
   ]
  },
  {
   "cell_type": "markdown",
   "metadata": {},
   "source": [
    "In order to create the file, we had to define the path of the folder in the computer, in which the file will be placed. For the code to work with another user, the path must be changed to a new one."
   ]
  },
  {
   "cell_type": "markdown",
   "metadata": {},
   "source": [
    "**1. Find the centre of the nodes of the swimming route.**\n",
    "\n",
    "In order to calculate the central point of the swimming path, we created this code:"
   ]
  },
  {
   "cell_type": "code",
   "execution_count": 1,
   "metadata": {},
   "outputs": [
    {
     "name": "stdout",
     "output_type": "stream",
     "text": [
      "Center coordinates: (52.365378199999995, 4.911908199999999)\n"
     ]
    }
   ],
   "source": [
    "\n",
    "nodes = [(52.348285, 4.911252), (52.358752, 4.904938),(52.364527, 4.901816),(52.365808, 4.908862),(52.363347, 4.916383),(52.365858, 4.921591),(52.369648, 4.910720),(52.371231, 4.913101),(52.373051, 4.914184),(52.373275, 4.916235)]\n",
    "\n",
    "total_lat = 0\n",
    "total_lon = 0\n",
    "\n",
    "\n",
    "for node in nodes:\n",
    "    total_lat += node[0]\n",
    "    total_lon += node[1]\n",
    "\n",
    "\n",
    "center_lat = total_lat / len(nodes)\n",
    "center_lon = total_lon / len(nodes)\n",
    "\n",
    "\n",
    "print(f\"Center coordinates: ({center_lat}, {center_lon})\")"
   ]
  },
  {
   "cell_type": "code",
   "execution_count": null,
   "metadata": {},
   "outputs": [],
   "source": [
    "import osmnx as ox\n",
    "import folium\n",
    "\n",
    "\n",
    "central_point = (52.365378199999995, 4.911908199999999)\n",
    "\n",
    "\n",
    "map_center = folium.Map(location=central_point, zoom_start=13)\n",
    "\n",
    "\n",
    "folium.Marker(central_point, icon=folium.Icon(color='green'), tooltip=f'Coordinates: {central_point}').add_to(map_center)\n",
    "\n",
    "\n",
    "file_path = \"C:\\\\Users\\\\eterezakii\\\\Desktop\\\\AMS Stuff\\\\central_coordinates_map.html\"\n",
    "map_center.save(file_path)"
   ]
  },
  {
   "cell_type": "markdown",
   "metadata": {},
   "source": [
    "The result we get from running this script is these coordinates: (52.365378199999995, 4.911908199999999)\n",
    "So this is the point that is in the middle of our swimming route."
   ]
  },
  {
   "cell_type": "markdown",
   "metadata": {},
   "source": [
    "**2. Use the centre to find a suitable spot for the Event Headquarters.**"
   ]
  },
  {
   "cell_type": "markdown",
   "metadata": {},
   "source": [
    "In the previous question we found the center of our swimming route. The center is around the Amsterdam Business school. That school is also along the route next to the water, so it has direct connection with the swimming route. Because it is Amsterdam Business School, we believe that it is the perfect place to use as the event headquarters as it will probably have facilities to accomodate the headquarters of the event. "
   ]
  },
  {
   "cell_type": "markdown",
   "metadata": {},
   "source": [
    "**3. Find the closest bus and tram stops at the start and finish of the swimming route. How\n",
    "many people can be transported within an hour.**"
   ]
  },
  {
   "cell_type": "markdown",
   "metadata": {},
   "source": [
    "The closest tram/bus station from our end point is called ‘kattenburgerstraat’. This station has busline 43 and N89. \n",
    "\n",
    "Bus 43 comes four times an hour either direction.\n",
    "Bus N89 is a nighbus so not important for this assignment.\n",
    "\n",
    "[**According to GVB**](https://over.gvb.nl/ov-in-amsterdam/voer-en-vaartuigen/tram-in-cijfers/) there are two sorts of buses driving around Amsterdam at the moment. The standard bus and buses that are geleed (consist of two parts). The standard bus has a capacity of 85 people, the geleed bus has a capacity of 150 people. So let’s assume the municipality of Amsterdam will use the bigger buses for the event.\n"
   ]
  },
  {
   "cell_type": "code",
   "execution_count": 2,
   "metadata": {},
   "outputs": [
    {
     "name": "stdout",
     "output_type": "stream",
     "text": [
      "1200\n"
     ]
    }
   ],
   "source": [
    "Average_Capacity = 150\n",
    "Trams = 8\n",
    "\n",
    "Flowrate_hour = Trams * Average_Capacity\n",
    "\n",
    "print(Flowrate_hour)"
   ]
  },
  {
   "cell_type": "markdown",
   "metadata": {},
   "source": [
    "The amount of people that can be transported within an hour through these trams is 1200 people."
   ]
  },
  {
   "cell_type": "markdown",
   "metadata": {},
   "source": [
    "The closest tram/bus station from our starting point is called ‘Amsteldijk’. This station has tramline 12. Tramline 12 comes eight times an hour either direction in the middle of the day. So, [**according to GVB**](https://over.gvb.nl/ov-in-amsterdam/voer-en-vaartuigen/tram-in-cijfers/) the most common tram is the G13 or G14. These trams have a capacity of 125 or 150 respectively. So let’s take the average which is 138"
   ]
  },
  {
   "cell_type": "code",
   "execution_count": 3,
   "metadata": {},
   "outputs": [
    {
     "name": "stdout",
     "output_type": "stream",
     "text": [
      "2208\n"
     ]
    }
   ],
   "source": [
    "Average_Capacity = 138\n",
    "Trams = 16\n",
    "\n",
    "Flowrate_hour = Trams * Average_Capacity\n",
    "\n",
    "print(Flowrate_hour)"
   ]
  },
  {
   "cell_type": "markdown",
   "metadata": {},
   "source": [
    "The flowrate per hour is 2208 people."
   ]
  },
  {
   "cell_type": "markdown",
   "metadata": {},
   "source": [
    "**4. Can you find which bus and tram lines these are, and can you find their routes?**"
   ]
  },
  {
   "cell_type": "markdown",
   "metadata": {},
   "source": [
    "We made a map just like in the first question. More specifically, we updated the code which we used for the mapping of our path. Now both the swimming route and the tram route are visible on the map in the html file. The difference now is that along with the swimming path, the route of Tram 14 is also visible."
   ]
  },
  {
   "cell_type": "code",
   "execution_count": 6,
   "metadata": {},
   "outputs": [],
   "source": [
    "import folium\n",
    "import os\n",
    "\n",
    "map_amsterdam = folium.Map(location=[52.3667, 4.8945], zoom_start=13)\n",
    "\n",
    "coordinates1 = [(52.348285, 4.911252), (52.358752, 4.904938), (52.364527, 4.901816),\n",
    "(52.365808, 4.908862), (52.363347, 4.916383), (52.365858, 4.921591),\n",
    "(52.369648, 4.910720), (52.371231, 4.913101), (52.373051, 4.914184),\n",
    "(52.373275, 4.916235)]\n",
    "\n",
    "coordinates2 = [(52.377617, 4.901658), (52.377946, 4.899388), (52.373118, 4.893331),\n",
    "(52.369288, 4.892183), (52.367063, 4.893618), (52.366283, 4.896869),\n",
    "(52.366252, 4.900320), (52.367188, 4.902159), (52.368037, 4.905431),\n",
    "(52.366699, 4.911111), (52.363121, 4.920102), (52.365912, 4.927030),\n",
    "(52.366030, 4.932353), (52.363754, 4.939550), (52.361622, 4.939744),\n",
    "(52.362623, 4.946752), (52.365135, 4.947992), (52.365238, 4.951205)]\n",
    "\n",
    "path1 = folium.PolyLine(locations=coordinates1, color='blue', weight=2)\n",
    "path2 = folium.PolyLine(locations=coordinates2, color='red', weight=2)\n",
    "\n",
    "path1.add_to(map_amsterdam)\n",
    "path2.add_to(map_amsterdam)\n",
    "\n",
    "folder_path = \"C:\\\\Users\\\\eterezakii\\\\Desktop\\\\AMS Stuff\"\n",
    "\n",
    "os.makedirs(folder_path, exist_ok=True)\n",
    "\n",
    "file_path = os.path.join(folder_path, 'amsterdam_map.html')\n",
    "map_amsterdam.save(file_path)\n"
   ]
  },
  {
   "cell_type": "markdown",
   "metadata": {},
   "source": [
    "**5. Calculate the centrality of the start, finish, and centre node of the route. Which\n",
    "centrality calculation makes the most sense.**"
   ]
  },
  {
   "cell_type": "markdown",
   "metadata": {},
   "source": [
    "We defined centrality as the relation of the starting point, the ending point of the path and the central point we calculated earlier with the street network of Amsterdam. To be more specific, we calculated the centrality based on the street system of the area around our path and how easy it is to get to these points. If the point of research  gets 0 that it has no centrality and if it has 1 it has 100% centrality."
   ]
  },
  {
   "cell_type": "code",
   "execution_count": 1,
   "metadata": {},
   "outputs": [],
   "source": [
    "import osmnx as ox\n",
    "import networkx as nx\n",
    "import folium\n",
    "\n",
    "start_point = (52.348285, 4.911252)\n",
    "end_point = (52.373275, 4.916235)\n",
    "new_point = (52.365378199999995, 4.911908199999999)\n",
    "\n",
    "graph = ox.graph.graph_from_point(start_point, dist=2000, network_type='all')\n",
    "\n",
    "centrality = nx.closeness_centrality(graph)\n",
    "\n",
    "start_node = ox.distance.nearest_nodes(graph, start_point[0], start_point[1])\n",
    "end_node = ox.distance.nearest_nodes(graph, end_point[0], end_point[1])\n",
    "new_node = ox.distance.nearest_nodes(graph, new_point[0], new_point[1])\n",
    "\n",
    "\n",
    "start_centrality = centrality[start_node]\n",
    "end_centrality = centrality[end_node]\n",
    "new_centrality = centrality[new_node]\n",
    "\n",
    "map_center = folium.Map(location=start_point, zoom_start=13)\n",
    "\n",
    "\n",
    "folium.Marker(start_point, icon=folium.Icon(color='blue')).add_to(map_center)\n",
    "folium.Marker(end_point, icon=folium.Icon(color='red')).add_to(map_center)\n",
    "folium.Marker(new_point, icon=folium.Icon(color='green')).add_to(map_center)\n",
    "\n",
    "\n",
    "folium.Marker(start_point, icon=folium.Icon(color='blue'), popup=f'Starting Centrality: {start_centrality}').add_to(map_center)\n",
    "folium.Marker(end_point, icon=folium.Icon(color='red'), popup=f'Ending Centrality: {end_centrality}').add_to(map_center)\n",
    "folium.Marker(new_point, icon=folium.Icon(color='green'), popup=f'New Point Centrality: {new_centrality}').add_to(map_center)\n",
    "\n",
    "file_path = \"C:\\\\Users\\\\eterezakii\\\\Desktop\\\\AMS Stuff\\\\centrality_map.html\"\n",
    "map_center.save(file_path)\n"
   ]
  },
  {
   "cell_type": "markdown",
   "metadata": {},
   "source": [
    "So, the result is a file of a map that when you click on the three points of interest you get the centrality of them: "
   ]
  },
  {
   "cell_type": "markdown",
   "metadata": {},
   "source": [
    " **6. Find all cafes, restaurants near the finish line. Walking time smaller than 10 minutes.**"
   ]
  },
  {
   "cell_type": "markdown",
   "metadata": {},
   "source": [
    "To find this answer we got a dataset from the municipality of amsterdam. This \n",
    "[**dataset**](https://maps.amsterdam.nl/functiekaart/) can be found here. \n",
    "\n",
    "We assumed that the distance that you can walk in 10 minutes is 1km. So we looked at all the horeca options within one kilometer of our finish line. \n"
   ]
  },
  {
   "cell_type": "code",
   "execution_count": 1,
   "metadata": {},
   "outputs": [
    {
     "name": "stdout",
     "output_type": "stream",
     "text": [
      "The number of horeca we've found within 1km distance from the end point is 115\n",
      "Here is the list of the found horecas:\n",
      "       OBJECTNUMMER                               Adres                                       Gebruiksdoel                      Objectsoort\n",
      "3405           3406          Binnen Bantammerstraat 1/H                                 bijeenkomstfunctie                       Restaurant\n",
      "3407           3408         Binnen Bantammerstraat 11/H                                 bijeenkomstfunctie                       Restaurant\n",
      "3413           3414           Binnen Bantammerstraat 27                                 bijeenkomstfunctie                       Restaurant\n",
      "3417           3418          Binnen Bantammerstraat 7/H                                 bijeenkomstfunctie                       Restaurant\n",
      "3419           3420           Binnen Bantammerstraat 9A                                 bijeenkomstfunctie                         Cafe/bar\n",
      "5984           5985                      Cruquiuskade 1                                 bijeenkomstfunctie                       Restaurant\n",
      "6255           6256                 Czaar Peterstraat 1                                 bijeenkomstfunctie                       Restaurant\n",
      "6259           6260             Czaar Peterstraat 106/H                                 bijeenkomstfunctie                         Cafe/bar\n",
      "6277           6278              Czaar Peterstraat 135D                                   industriefunctie                       Restaurant\n",
      "6299           6300                Czaar Peterstraat 21                                 bijeenkomstfunctie                       Restaurant\n",
      "6323           6324                Czaar Peterstraat 74                                 bijeenkomstfunctie                       Restaurant\n",
      "6325           6326              Czaar Peterstraat 78/H                     woonfunctie|bijeenkomstfunctie               Kantoor|Restaurant\n",
      "6334           6335                Czaar Peterstraat 96                                      winkelfunctie                        Cafetaria\n",
      "7257           7258                De Ruijterkade 105/1                                     kantoorfunctie                          Kantoor\n",
      "7258           7259                De Ruijterkade 105/H                                 bijeenkomstfunctie                         Cafe/bar\n",
      "7738           7739                       Dijksgracht 4                                 bijeenkomstfunctie                         Cafe/bar\n",
      "9206           9207                     Entrepotdok 36B                                 bijeenkomstfunctie                       Restaurant\n",
      "9227           9228                     Entrepotdok 64A                                 bijeenkomstfunctie                         Cafe/bar\n",
      "9233           9234                       Entrepotdok 7                                 bijeenkomstfunctie                       Restaurant\n",
      "10316         10317                     Geldersekade 23                                 bijeenkomstfunctie                       Restaurant\n",
      "10317         10318                     Geldersekade 29                                 bijeenkomstfunctie                       Restaurant\n",
      "10325         10326                    Geldersekade 5/H                                 bijeenkomstfunctie                       Restaurant\n",
      "10343         10344                   Geldersekade 93/H                                 bijeenkomstfunctie                       Restaurant\n",
      "10345         10346                   Geldersekade 95/H                                 bijeenkomstfunctie                         Cafe/bar\n",
      "12022         12023               Harry Banninkstraat 1                                      winkelfunctie                       Restaurant\n",
      "13700         13701                   Hoogte Kadijk 8/O                                 bijeenkomstfunctie                        Cafetaria\n",
      "14363         14364               Jacob Bontiusplaats 7                                 bijeenkomstfunctie                              NaN\n",
      "15956         15957                     Jollemanhof 154                                 bijeenkomstfunctie                       Restaurant\n",
      "15980         15981                       Jollemanhof 9                  bijeenkomstfunctie|kantoorfunctie                          Kantoor\n",
      "16207         16208                     Kadijksplein 11                                 bijeenkomstfunctie                       Restaurant\n",
      "16209         16210                    Kadijksplein 16B                                 bijeenkomstfunctie                       Restaurant\n",
      "16211         16212                      Kadijksplein 4                                 bijeenkomstfunctie               Kantoor|Restaurant\n",
      "16212         16213                      Kadijksplein 5                                 bijeenkomstfunctie                         Cafe/bar\n",
      "16214         16215                      Kadijksplein 9                                        woonfunctie                       Restaurant\n",
      "16653         16654                Kattenburgerplein 39                                 bijeenkomstfunctie                         Cafe/bar\n",
      "18043         18044                    Koningsstraat 25                                      winkelfunctie                       Restaurant\n",
      "18045         18046                  Koningsstraat 29/H                                 bijeenkomstfunctie                       Restaurant\n",
      "18051         18052                  Koningsstraat 54/H                                 bijeenkomstfunctie                       Restaurant\n",
      "18085         18086            Korte Koningsstraat 13/H                                      winkelfunctie                         Cafe/bar\n",
      "18464         18465                  Krom Boomssloot 47                                 bijeenkomstfunctie                       Restaurant\n",
      "20532         20533                     Markenplein 30A                                 bijeenkomstfunctie                       Restaurant\n",
      "21694         21695                     Muiderstraat 18                                 bijeenkomstfunctie                           Woning\n",
      "23884         23885            Oostelijke Handelskade 4                                 bijeenkomstfunctie              Restaurant|Cafe/bar\n",
      "23908         23909              Oostenburgergracht 185                                      winkelfunctie                       Restaurant\n",
      "23909         23910              Oostenburgergracht 187                                 bijeenkomstfunctie                         Cafe/bar\n",
      "23911         23912                Oostenburgergracht 3                                 bijeenkomstfunctie                         Cafe/bar\n",
      "23912         23913               Oostenburgergracht 31                                 bijeenkomstfunctie                       Restaurant\n",
      "23913         23914               Oostenburgergracht 37                                 bijeenkomstfunctie                       Restaurant\n",
      "23921         23922               Oostenburgergracht 71                                 bijeenkomstfunctie                       Restaurant\n",
      "23923         23924               Oostenburgergracht 75                                 bijeenkomstfunctie               Kantoor|Restaurant\n",
      "23945         23946            Oostenburgervoorstraat 1  bijeenkomstfunctie|winkelfunctie|kantoorfuncti...  Winkel/verkoopruimte|Restaurant\n",
      "23965         23966                    Oosterdokskade 1                                 bijeenkomstfunctie                         Cafe/bar\n",
      "23967         23968                  Oosterdokskade 131                                      winkelfunctie             Winkel/verkoopruimte\n",
      "23968         23969                  Oosterdokskade 133                                 bijeenkomstfunctie                       Restaurant\n",
      "23969         23970                  Oosterdokskade 135                                 bijeenkomstfunctie                       Restaurant\n",
      "23970         23971                  Oosterdokskade 137                                 bijeenkomstfunctie                         Cafe/bar\n",
      "23972         23973                  Oosterdokskade 145                                 bijeenkomstfunctie                       Restaurant\n",
      "23976         23977                    Oosterdokskade 3                                 bijeenkomstfunctie                              NaN\n",
      "24791         24792                      Oude Waal 11/H                                 bijeenkomstfunctie                       Restaurant\n",
      "24792         24793                      Oude Waal 12/H                                 bijeenkomstfunctie                              NaN\n",
      "26122         26123                    Peperstraat 10/H                                 bijeenkomstfunctie                       Restaurant\n",
      "26125         26126                      Peperstraat 23                                 bijeenkomstfunctie                       Restaurant\n",
      "26210         26211                  Piet Heinkade 179A                                 bijeenkomstfunctie                       Restaurant\n",
      "26211         26212                  Piet Heinkade 179B                                 bijeenkomstfunctie                              NaN\n",
      "26239         26240                    Piet Heinkade 29                                     kantoorfunctie                        Cafetaria\n",
      "26246         26247                     Piet Heinkade 4                            overige gebruiksfunctie                              NaN\n",
      "26247         26248                    Piet Heinkade 41                                   industriefunctie                    Zaal (horeca)\n",
      "26249         26250                    Piet Heinkade 47                                   industriefunctie                       Restaurant\n",
      "26252         26253                     Piet Heinkade 6                            overige gebruiksfunctie                              NaN\n",
      "26253         26254                    Piet Heinkade 63                                 bijeenkomstfunctie                              NaN\n",
      "26272         26273                     Piet Heinkade 8                                 bijeenkomstfunctie                              NaN\n",
      "26770         26771              Plantage Kerklaan 10/O                                 bijeenkomstfunctie                       Restaurant\n",
      "26775         26776               Plantage Kerklaan 2/H                                 bijeenkomstfunctie                       Restaurant\n",
      "26779         26780              Plantage Kerklaan 26/H                                 bijeenkomstfunctie                       Restaurant\n",
      "26780         26781              Plantage Kerklaan 28/H                                 bijeenkomstfunctie                       Restaurant\n",
      "26782         26783              Plantage Kerklaan 32/H                                 bijeenkomstfunctie                       Restaurant\n",
      "26784         26785              Plantage Kerklaan 35/H                                 bijeenkomstfunctie             Cafetaria|Werkplaats\n",
      "26785         26786                Plantage Kerklaan 36                                     kantoorfunctie                              NaN\n",
      "26786         26787              Plantage Kerklaan 37/H                                 bijeenkomstfunctie                       Restaurant\n",
      "26789         26790                Plantage Kerklaan 41                                 bijeenkomstfunctie                       Restaurant\n",
      "26791         26792             Plantage Kerklaan 49A/H                                      winkelfunctie                       Restaurant\n",
      "26793         26794             Plantage Kerklaan 61C/1                                 bijeenkomstfunctie                         Cafe/bar\n",
      "26803         26804             Plantage Middenlaan 22A                                 bijeenkomstfunctie               Kantoor|Restaurant\n",
      "26811         26812            Plantage Middenlaan 30/H                                 bijeenkomstfunctie                       Restaurant\n",
      "26816         26817              Plantage Middenlaan 37                                 bijeenkomstfunctie                       Restaurant\n",
      "26820         26821             Plantage Middenlaan 44E                                 bijeenkomstfunctie                          Kantoor\n",
      "26852         26853          Plantage Muidergracht 69/H                                 bijeenkomstfunctie                       Restaurant\n",
      "26855         26856              Plantage Parklaan 10/H                                 bijeenkomstfunctie                       Restaurant\n",
      "27434         27435             Prins Hendrikkade 102/H                                 bijeenkomstfunctie                       Restaurant\n",
      "27436         27437              Prins Hendrikkade 106A                                 bijeenkomstfunctie                       Restaurant\n",
      "27441         27442             Prins Hendrikkade 121/H                     woonfunctie|bijeenkomstfunctie   Woning in niet-woning|Cafe/bar\n",
      "27478         27479               Prins Hendrikkade 194                                 bijeenkomstfunctie                         Cafe/bar\n",
      "27533         27534                Prins Hendrikkade 96                                 bijeenkomstfunctie                         Cafe/bar\n",
      "27534         27535                Prins Hendrikkade 97                                 bijeenkomstfunctie                       Restaurant\n",
      "28233         28234                        Rapenburg 18                                 bijeenkomstfunctie                         Cafe/bar\n",
      "28246         28247                Rapenburgerplein 1/H                     woonfunctie|bijeenkomstfunctie                         Cafe/bar\n",
      "28248         28249                  Rapenburgerplein 3                                      winkelfunctie                       Restaurant\n",
      "28249         28250                Rapenburgerplein 6/H                                 bijeenkomstfunctie                       Restaurant\n",
      "28250         28251                 Rapenburgerplein 83                                 bijeenkomstfunctie                         Cafe/bar\n",
      "28255         28256               Rapenburgerstraat 169                                 bijeenkomstfunctie                       Restaurant\n",
      "29894         29895                  Sarphatistraat 720                                 bijeenkomstfunctie                       Restaurant\n",
      "30174         30175                 Schippersgracht 6/H                                 bijeenkomstfunctie                       Restaurant\n",
      "32536         32537                    Sumatrakade 1295                                 bijeenkomstfunctie                       Restaurant\n",
      "33212         33213                      Tosaristraat 1                                 bijeenkomstfunctie                       Restaurant\n",
      "34032         34033  Tweede Wittenburgerdwarsstraat 133                                      winkelfunctie                       Restaurant\n",
      "34376         34377             Valkenburgerstraat 223D                                 bijeenkomstfunctie                       Restaurant\n",
      "34381         34382                Valkenburgerstraat 6                                 bijeenkomstfunctie                         Cafe/bar\n",
      "34385         34386              Valkenburgerstraat 8/H                                 bijeenkomstfunctie                       Restaurant\n",
      "35649         35650                        Veemkade 368                                 bijeenkomstfunctie                              NaN\n",
      "35661         35662                        Veemkade 576                                 bijeenkomstfunctie                       Restaurant\n",
      "35936         35937                         VOC-kade 26                                 bijeenkomstfunctie               Kantoor|Restaurant\n",
      "37574         37575     Willem Frederik Hermansstraat 2                                 bijeenkomstfunctie                              NaN\n",
      "37792         37793                    Windroosplein 73                                   industriefunctie                 Kantoor|Cafe/bar\n",
      "37927         37928              Wittenburgergracht 143                                      winkelfunctie                       Restaurant\n",
      "38196         38197                   Zeeburgerstraat 1                                 bijeenkomstfunctie                       Restaurant\n"
     ]
    }
   ],
   "source": [
    "import pandas as pd\n",
    "from geopy.distance import geodesic\n",
    "\n",
    "pd.set_option('display.max_columns', None)\n",
    "pd.set_option('display.expand_frame_repr', False)\n",
    "pd.set_option('display.max_rows', None)\n",
    "\n",
    "pd.set_option('display.max_rows', None)\n",
    "\n",
    "df = pd.read_csv(\"C:\\\\Users\\\\Stef_\\\\OneDrive\\\\Documenten\\\\MADE\\\\Metropolitan Data\\\\Github repository Data 1\\\\Assignment 4 Transport\\\\FUNCTIEKAART.csv\", delimiter=';')\n",
    "\n",
    "\n",
    "horeca_df = df[df['Functie'] == 'Horeca']\n",
    "\n",
    "end_location = (52.373275, 4.916235)\n",
    "\n",
    "\n",
    "def extract_coordinates(row):\n",
    "    \n",
    "    coordinates_str = row['WKT_LAT_LNG'].split('(')[1].rstrip(')').split()\n",
    "    return (float(coordinates_str[0]), float(coordinates_str[1]))\n",
    "\n",
    "\n",
    "horeca_df = horeca_df.copy()\n",
    "\n",
    "horeca_df['Coordinates'] = horeca_df.apply(extract_coordinates, axis=1)\n",
    "horeca_df['Distance'] = horeca_df['Coordinates'].apply(lambda coords: geodesic(end_location, coords).meters)\n",
    "\n",
    "\n",
    "close_horeca = horeca_df[horeca_df['Distance'] <= 1000]\n",
    "\n",
    "num_horeca_found = len(close_horeca)\n",
    "\n",
    "print(f\"The number of horeca we've found within 1km distance from the end point is {num_horeca_found}\")\n",
    "\n",
    "\n",
    "print(\"Here is the list of the found horecas:\")\n",
    "\n",
    "print(close_horeca[['OBJECTNUMMER', 'Adres', 'Gebruiksdoel', 'Objectsoort']])"
   ]
  },
  {
   "cell_type": "markdown",
   "metadata": {},
   "source": [
    "With this code we were able to print all the points of interest in a list. We add these points on a map. This map also contains a circle that has a radius of 1 kilometer from the center.\n"
   ]
  },
  {
   "cell_type": "code",
   "execution_count": 3,
   "metadata": {},
   "outputs": [],
   "source": [
    "import folium\n",
    "\n",
    "\n",
    "point_coordinates = [\n",
    "    (52.3739837, 4.9019093),\n",
    "    (52.3738505, 4.9022631),\n",
    "    (52.3736277, 4.9027502),\n",
    "    (52.3739038, 4.9021158),\n",
    "    (52.3738862, 4.9022041),\n",
    "    (52.3675904, 4.9258969),\n",
    "    (52.36794, 4.9256583),\n",
    "    (52.3698595, 4.9293091),\n",
    "    (52.3706896, 4.9301375),\n",
    "    (52.3686264, 4.9265174),\n",
    "    (52.369371, 4.9284919),\n",
    "    (52.3694525, 4.9286525),\n",
    "    (52.3696968, 4.929076),\n",
    "    (52.3777809, 4.9051722),\n",
    "    (52.3777809, 4.9051722),\n",
    "    (52.376288, 4.9116205),\n",
    "    (52.3688658, 4.9142548),\n",
    "    (52.3681012, 4.9163771),\n",
    "    (52.3696563, 4.9119117),\n",
    "    (52.3754778, 4.9024069),\n",
    "    (52.3754598, 4.9024072),\n",
    "    (52.3758379, 4.9025791),\n",
    "    (52.3740819, 4.9017172),\n",
    "    (52.3739738, 4.9016744),\n",
    "    (52.3760709, 4.9068354),\n",
    "    (52.3701717, 4.9126844),\n",
    "    (52.3714067, 4.9273403),\n",
    "    (52.3766592, 4.9213824),\n",
    "    (52.3771131, 4.9202322),\n",
    "    (52.3702783, 4.9123895),\n",
    "    (52.3701804, 4.9126109),\n",
    "    (52.3700338, 4.9119224),\n",
    "    (52.3701155, 4.9121123),\n",
    "    (52.3702151, 4.9123169),\n",
    "    (52.3708874, 4.9163622),\n",
    "    (52.372411, 4.9019116),\n",
    "    (52.3723484, 4.9020153),\n",
    "    (52.3720707, 4.9022237),\n",
    "    (52.3717866, 4.9030933),\n",
    "    (52.3714876, 4.9024797),\n",
    "    (52.3684723, 4.9058016),\n",
    "    (52.3674136, 4.9062535),\n",
    "    (52.3750047, 4.9304309),\n",
    "    (52.3678938, 4.9253505),\n",
    "    (52.3678943, 4.9254825),\n",
    "    (52.3692605, 4.9209166),\n",
    "    (52.368994, 4.9216975),\n",
    "    (52.3689584, 4.921786),\n",
    "    (52.3684874, 4.9231565),\n",
    "    (52.3681144, 4.924291),\n",
    "    (52.3689144, 4.9220214),\n",
    "    (52.3768164, 4.9044924),\n",
    "    (52.3758586, 4.9076748),\n",
    "    (52.3758498, 4.9077042),\n",
    "    (52.375859, 4.9077629),\n",
    "    (52.3758501, 4.9077777),\n",
    "    (52.3757993, 4.9085565),\n",
    "    (52.3765854, 4.9051557),\n",
    "    (52.3731633, 4.9034895),\n",
    "    (52.3731365, 4.9035192),\n",
    "    (52.3716606, 4.9074852),\n",
    "    (52.3715808, 4.9077209),\n",
    "    (52.37677, 4.9221595),\n",
    "    (52.376779, 4.9221594),\n",
    "    (52.3778307, 4.9153489),\n",
    "    (52.3774764, 4.9121512),\n",
    "    (52.3779568, 4.9154211),\n",
    "    (52.3776451, 4.9161293),\n",
    "    (52.3774592, 4.9123422),\n",
    "    (52.3774147, 4.9169689),\n",
    "    (52.3774512, 4.9125627),\n",
    "    (52.3656725, 4.9113376),\n",
    "    (52.3655281, 4.9111924),\n",
    "    (52.3659792, 4.9116279),\n",
    "    (52.3660243, 4.9116715),\n",
    "    (52.3660965, 4.9117296),\n",
    "    (52.3668432, 4.9119418),\n",
    "    (52.3667732, 4.9123976),\n",
    "    (52.3669064, 4.911985),\n",
    "    (52.3669785, 4.9120431),\n",
    "    (52.367186, 4.9122464),\n",
    "    (52.3678174, 4.9127976),\n",
    "    (52.3665249, 4.9109907),\n",
    "    (52.3662229, 4.9118603),\n",
    "    (52.3666445, 4.9116648),\n",
    "    (52.3659107, 4.9124655),\n",
    "    (52.3657147, 4.910647),\n",
    "    (52.3673551, 4.909587),\n",
    "    (52.3756596, 4.9029189),\n",
    "    (52.3753986, 4.9028335),\n",
    "    (52.3741754, 4.9048148),\n",
    "    (52.3710051, 4.9120735),\n",
    "    (52.3759465, 4.9027396),\n",
    "    (52.37592, 4.9028573),\n",
    "    (52.3717063, 4.9076608),\n",
    "    (52.370444, 4.9110956),\n",
    "    (52.3703894, 4.9109641),\n",
    "    (52.3703349, 4.9108179),\n",
    "    (52.3700556, 4.9106153),\n",
    "    (52.3683485, 4.9063168),\n",
    "    (52.3666151, 4.9247177),\n",
    "    (52.3708152, 4.9117818),\n",
    "    (52.3794977, 4.9255823),\n",
    "    (52.3792283, 4.9233234),\n",
    "    (52.3714679, 4.9222884),\n",
    "    (52.3688488, 4.9055626),\n",
    "    (52.3705156, 4.9087895),\n",
    "    (52.3704973, 4.908731),\n",
    "    (52.3763959, 4.9253062),\n",
    "    (52.3759823, 4.9275867),\n",
    "    (52.3719517, 4.9265123),\n",
    "    (52.3759049, 4.9079973),\n",
    "    (52.3734985, 4.9244259),\n",
    "    (52.3700608, 4.9187058),\n",
    "    (52.3668263, 4.9258754)\n",
    "]\n",
    "\n",
    "center_lat, center_lon = 52.373275, 4.916235\n",
    "\n",
    "map_with_circle = folium.Map(location=[center_lat, center_lon], zoom_start=13)\n",
    "\n",
    "for coordinate in point_coordinates:\n",
    "    folium.Marker(location=coordinate).add_to(map_with_circle)\n",
    "\n",
    "\n",
    "folium.Circle(location=[center_lat, center_lon], radius=1000, color='blue', fill=True, fill_opacity=0.2).add_to(map_with_circle)\n",
    "\n",
    "\n",
    "file_path = \"C:\\\\Users\\\\eterezakii\\\\Desktop\\\\AMS Stuff\\\\centrality_map_with_circle.html\"\n",
    "map_with_circle.save(file_path)\n"
   ]
  },
  {
   "cell_type": "markdown",
   "metadata": {},
   "source": [
    "As with previous questions, we again create a file that can be opened with a web browser. The file contains a map of Amsterdam that has all the horeca points on it."
   ]
  },
  {
   "cell_type": "markdown",
   "metadata": {},
   "source": [
    "**References**\n",
    "\n",
    "Gemeente Amsterdam Klaas-Bindert de Haan. (z.d.-b). Niet-woonfuncties (Functiekaart). Maps.Amsterdam. https://maps.amsterdam.nl/functiekaart/\n",
    "\n",
    "GVB. (2023, May 4). Onze trams - Over GVB. Over GVB. https://over.gvb.nl/ov-in-amsterdam/voer-en-vaartuigen/tram-in-cijfers/"
   ]
  }
 ],
 "metadata": {
  "kernelspec": {
   "display_name": "Python 3",
   "language": "python",
   "name": "python3"
  },
  "language_info": {
   "codemirror_mode": {
    "name": "ipython",
    "version": 3
   },
   "file_extension": ".py",
   "mimetype": "text/x-python",
   "name": "python",
   "nbconvert_exporter": "python",
   "pygments_lexer": "ipython3",
   "version": "3.11.5"
  }
 },
 "nbformat": 4,
 "nbformat_minor": 2
}
