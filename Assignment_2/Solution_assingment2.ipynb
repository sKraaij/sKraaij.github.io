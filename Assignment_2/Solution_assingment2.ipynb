{
 "cells": [
  {
   "cell_type": "markdown",
   "metadata": {},
   "source": [
    "<header>\n",
    "    <div style=\"text-align: center;\">\n",
    "        <h1> MSc Metropolitan Analysis Design Engineering </h1>\n",
    "        <h1> Metropolitan Data 1 </h1>\n",
    "        <h3> Stef Kraaij, Eirini Terezaki, Marco Russo </h3>\n",
    "        <h4> <i>Assignment 2</i> </h4>\n",
    "    </div>\n",
    "</header>"
   ]
  },
  {
   "cell_type": "markdown",
   "metadata": {},
   "source": [
    "We analysed the question with internet research, and we found data to answer the questions.\n",
    "\n",
    "**1. How many of the canal boats currently in use are diesel/fossil fuel driven and how many boats are electrical driven?**\n",
    "\n",
    "According to the TNO report there are 7350 boats in Amsterdam. 15% of those boats are electric (around 1100 boats), 42,5 are diesel (around 3120 boats), and 42,5 are petrol (around 3120 boats).\n",
    "As the paralympic will be in 2024, it is interesting to say that “Op basis van de trend in uitgegeven vignetten voor uitstootvrij boten, in combinatie met de monitoringsdata, wordt het aandeel uitstootvrij in 2025 op 20% ingeschat. Na 2025 verandert het beleid rondom vignetverlening, na 2025 wordt het aandeel uitstootvrij in de autonome situatie daarom gelijk verondersteld aan 2025” (TNO report, 2023)."
   ]
  },
  {
   "cell_type": "markdown",
   "metadata": {},
   "source": [
    "**2. Are there peak times for the canal boats?**\n",
    "\n",
    "Late afternoon in the warm summer evening (Van Der Meer, 2023)."
   ]
  },
  {
   "cell_type": "markdown",
   "metadata": {},
   "source": [
    "**3. Try to compare the energy use of the canal boats to some other activities in the city. Use canal boats more or less energy in relation to their carbon footprint compared to these other activities?**\n",
    "\n",
    "Amsterdam boats have a total CO2 emissions of 243 tons yearly. Knowing on average the emissions of CO2 are 0.3712 kg of C02 per kWh (CarbonFund, 2023), we can make some calculations:\n",
    "243 tons are 243000 kg of CO2;\n",
    "243000 kg CO2 in kWh is 654633.6206896552"
   ]
  },
  {
   "cell_type": "code",
   "execution_count": 7,
   "metadata": {},
   "outputs": [
    {
     "name": "stdout",
     "output_type": "stream",
     "text": [
      "654633.6206896552 kWh\n"
     ]
    }
   ],
   "source": [
    "KwH_per_year = 243000 / 0.3712\n",
    "print(KwH_per_year, 'kWh')"
   ]
  },
  {
   "cell_type": "markdown",
   "metadata": {},
   "source": [
    "Compared to the tram system that uses 40 million kWh per year (GVB, 2019), boats are a less energy consuming solution. Moreover, there are 200 trams (GVB, 2019) compared to the almost 7000 boats. However, a tram transports more people at the same time than an average boat. So, even though the trams use more energy yearly, they also probably transport more people. "
   ]
  },
  {
   "cell_type": "markdown",
   "metadata": {},
   "source": [
    "**4. Would you consider it economically feasible?**\n",
    "\n",
    "With the previous considerations, it might be economically feasible to provide more electric boats and allow tourists to move around Amsterdam with boat public transport."
   ]
  },
  {
   "cell_type": "markdown",
   "metadata": {},
   "source": [
    "**5. How many support boats and vehicles are needed for the Paralympics event only.**\n",
    "\n",
    "Considering that in the previous Paralympics there have been 604 athlete swimmers (Para Swimming (Formerly IPC Swimming) - About the Sport, n.d.). So let's assume in our event there will be 604 athletes swimming. According to Rottnest Channel Swim (2023) a support boat is needed for each athlete. That would mean we need 604 more boats for the event only.\n",
    "\n",
    "We assume that to make the race feasible only 1/10th of the athletes can compete at the same time. Here the code:"
   ]
  },
  {
   "cell_type": "code",
   "execution_count": 3,
   "metadata": {},
   "outputs": [
    {
     "name": "stdout",
     "output_type": "stream",
     "text": [
      "Needed boats rounded up: 61\n"
     ]
    }
   ],
   "source": [
    "import math\n",
    "\n",
    "\n",
    "Total_athletes = 604\n",
    "Ratio_athletes_boats = 10\n",
    "\n",
    "Needed_boats = Total_athletes / Ratio_athletes_boats\n",
    "\n",
    "#Round this number up\n",
    "Boats = math.ceil(Needed_boats)\n",
    "\n",
    "print(\"Needed boats rounded up:\", Boats)\n"
   ]
  },
  {
   "cell_type": "markdown",
   "metadata": {},
   "source": [
    "With a 10 athletes per boat ratio the amount of needed boats is 61."
   ]
  },
  {
   "cell_type": "markdown",
   "metadata": {},
   "source": [
    "**6. If only clean energy can be used, how many solar panels or wind turbines are needed?**\n",
    "\n",
    "We assume that the athletes that partake in the event will swim 5km in 2 hours. We found that the Paralympic 1500m average race time is 20 minutes. If we extrapolate the speed, we need around 70 minutes to finish the race. But the speed of someone swimming 1500 metres will be higher than the speed of someone swimming 5km. So paralympic athletes swimming the 5km will also be way slower. So lets say it takes 2 hours for an average racer to finish the 5km swim.\n",
    "Considering that an electric boat has an engine of 26 kilowatts (Electric Boat Motors, n.d.), the energy needed for the boats for the race is:\n"
   ]
  },
  {
   "cell_type": "code",
   "execution_count": 6,
   "metadata": {},
   "outputs": [
    {
     "name": "stdout",
     "output_type": "stream",
     "text": [
      "31720 kWh\n"
     ]
    }
   ],
   "source": [
    "kW_engine_Boat = 26\n",
    "Average_hours = 2\n",
    "Groups = math.ceil(Total_athletes / Needed_boats)\n",
    "\n",
    "kWh_boats_total = kW_engine_Boat * Boats * Average_hours * Groups\n",
    "\n",
    "\n",
    "print(kWh_boats_total, 'kWh')"
   ]
  },
  {
   "cell_type": "markdown",
   "metadata": {},
   "source": [
    "Solar panels usually only produce 300 watts per square metre (Aggarwal, 2023). We consider that they produce energy during the race (20h). They will produce 300 * 20 = 6kWh. Needing 31.720 kWh for the event, we might need to install 31.720 / 6 = 5300 square metres of solar panels. To produce the amount of energy necessary in the time that the event takes place.\n",
    "\n",
    "Average onshore wind turbines are 1500 kW (How Much Power Does a Wind Turbine Generate?, 2020), going for 20h we would get 1500kW * 20h = 30000 kWh. Needing 31.720 kWh for the event, we might need to install 2 wind turbines."
   ]
  },
  {
   "cell_type": "code",
   "execution_count": 5,
   "metadata": {},
   "outputs": [
    {
     "name": "stdout",
     "output_type": "stream",
     "text": [
      "We need 5286.666666666667 m2\n",
      "We need 2 turbines\n"
     ]
    }
   ],
   "source": [
    "Solar_production = 0.3 \n",
    "Production_during_race_s = Solar_production * 20\n",
    "Square_meters_solar = kWh_boats_total / Production_during_race_s\n",
    "print ('We need', Square_meters_solar, 'm2')\n",
    "\n",
    "\n",
    "Turbine_production = 1500\n",
    "Production_during_race_w = Turbine_production * 20\n",
    "Number_turbines = kWh_boats_total / Production_during_race_w \n",
    "Turbines = math.ceil(Number_turbines)\n",
    "print ('We need', Turbines, 'turbines')"
   ]
  },
  {
   "cell_type": "markdown",
   "metadata": {},
   "source": [
    "**7. Is it possible to accommodate these facilities within the city?**\n",
    "\n",
    "The amount of space needed to produce the necessary energy with solar panels is 5286 m2. An average football field is 5000 m2. So while Amsterdam is small and needs to use space wisely it can still provide 5286 m2 of solar panels. It can be spread over rooftops in the city, or convert a football field or a park into a solar field.\n",
    "For the wind turbines they require less space, so there is no problem to place them within the urban borders. But considering other norms and regulations, it is better to place them outside the inhabited centres."
   ]
  },
  {
   "cell_type": "markdown",
   "metadata": {},
   "source": [
    "**8. Would there be any effect on the water quality if there are less/no canal boats using fossil fuels?**\n",
    "\n",
    "Yes, the canal boats pollute if they have benzine or diesel engines, depositing a lot of pollutants on the surface water."
   ]
  },
  {
   "cell_type": "markdown",
   "metadata": {},
   "source": [
    "References:\n",
    "\n",
    "Van Der Meer, S. (2023, January 9). When to do a Canal Cruise in Amsterdam? Amsterdam Experiences. https://amsterdamexperiences.nl/when-to-do-a-canal-cruise-in-amsterdam/#:~:text=The%20best%20time%20of%20day,you%20just%20can't%20miss!\n",
    "\n",
    "CarbonFund. (2023, August 18). Carbon and usage calculation Methods - CarbonFund. Carbonfund. https://carbonfund.org/calculation-methods/#:~:text=Electricity,0.3712%20kgs%20CO2e%20per%20kWh\n",
    "\n",
    "GVB. (2019, July 11). Tram in cijfers - Over GVB. Over GVB. https://web.archive.org/web/20200628214910/https://over.gvb.nl/ov-in-amsterdam/feiten-en-cijfers/tram-in-cijfers/\n",
    "\n",
    "Gemeente Amsterdam (2023). Uitvoeringsagenda Uitstootvrije Mobiliteit Amsterdam 2023-2026. Gemeente Amsterdam\n",
    "https://www.amsterdam.nl/verkeer-vervoer/milieuzone-amsterdam/uitvoeringsagenda-uitstootvrije/\n",
    "\n",
    "Para Swimming (formerly IPC swimming) - about the sport. (z.d.). International Paralympic Committee. https://www.paralympic.org/swimming/about \n",
    "\n",
    "Rottnest Channel Swim. (2023, May 3). Skippers and support boats - Rottnest Channel Swim. https://rottnestchannelswim.com.au/skippers-and-support-boats/\n",
    "\n",
    "Electric boat motors. (n.d.). https://lynchmotors.co.uk/marine-motors/canal.html\n",
    "\n",
    "Aggarwal, V. (2023). What is the output of a solar panel? EnergySage Blog. https://news.energysage.com/what-is-the-power-output-of-a-solar-panel/\n",
    "\n",
    "How much power does a wind turbine generate? (2020, November 9). Sciencing. https://sciencing.com/much-power-wind-turbine-generate-6917667.html"
   ]
  }
 ],
 "metadata": {
  "kernelspec": {
   "display_name": "Python 3",
   "language": "python",
   "name": "python3"
  },
  "language_info": {
   "codemirror_mode": {
    "name": "ipython",
    "version": 3
   },
   "file_extension": ".py",
   "mimetype": "text/x-python",
   "name": "python",
   "nbconvert_exporter": "python",
   "pygments_lexer": "ipython3",
   "version": "3.11.5"
  }
 },
 "nbformat": 4,
 "nbformat_minor": 2
}
